{
 "cells": [
  {
   "cell_type": "markdown",
   "metadata": {},
   "source": [
    "## Advanced Lane Finding Project\n",
    "\n",
    "The goals / steps of this project are the following:\n",
    "\n",
    "* Compute the camera calibration matrix and distortion coefficients given a set of chessboard images.\n",
    "* Apply a distortion correction to raw images.\n",
    "* Use color transforms, gradients, etc., to create a thresholded binary image.\n",
    "* Apply a perspective transform to rectify binary image (\"birds-eye view\").\n",
    "* Detect lane pixels and fit to find the lane boundary.\n",
    "* Determine the curvature of the lane and vehicle position with respect to center.\n",
    "* Warp the detected lane boundaries back onto the original image.\n",
    "* Output visual display of the lane boundaries and numerical estimation of lane curvature and vehicle position.\n",
    "\n",
    "---\n",
    "## First, I'll import the necessary libraries"
   ]
  },
  {
   "cell_type": "code",
   "execution_count": 14,
   "metadata": {},
   "outputs": [],
   "source": [
    "import numpy as np\n",
    "import cv2\n",
    "import glob\n",
    "import matplotlib.pyplot as plt\n",
    "%matplotlib qt"
   ]
  },
  {
   "cell_type": "markdown",
   "metadata": {},
   "source": [
    "## Function to compute the camera calibration using chessboard images"
   ]
  },
  {
   "cell_type": "code",
   "execution_count": 15,
   "metadata": {},
   "outputs": [],
   "source": [
    "# Calibrates the camera based on checkerboard images \n",
    "def calibrate_camera():\n",
    "    # prepare object points, like (0,0,0), (1,0,0), (2,0,0) ....,(6,5,0)\n",
    "    objp = np.zeros((6*9,3), np.float32)\n",
    "    objp[:,:2] = np.mgrid[0:9,0:6].T.reshape(-1,2)\n",
    "\n",
    "    # Arrays to store object points and image points from all the images.\n",
    "    objpoints = [] # 3d points in real world space\n",
    "    imgpoints = [] # 2d points in image plane.\n",
    "\n",
    "    # Make a list of calibration images\n",
    "    images = glob.glob('camera_cal/calibration*.jpg')\n",
    "\n",
    "    # Step through the list and search for chessboard corners\n",
    "    for fname in images:\n",
    "\n",
    "        # Read the image and convert to greyscale\n",
    "        img = plt.imread(fname)\n",
    "        gray = cv2.cvtColor(img,cv2.COLOR_RGB2GRAY)\n",
    "\n",
    "        # Find the chessboard corners\n",
    "        ret, corners = cv2.findChessboardCorners(gray, (9,6),None)\n",
    "\n",
    "        # If found, add object points, image points\n",
    "        if ret == True:\n",
    "            objpoints.append(objp)\n",
    "            imgpoints.append(corners)\n",
    "\n",
    "            # Draw and display the corners\n",
    "            #img = cv2.drawChessboardCorners(img, (9,6), corners, ret)\n",
    "            #plt.imshow('img',img)\n",
    "            #cv2.waitKey(500)\n",
    "\n",
    "    # Update the vales used in calibrateCamera\n",
    "    ret, mtx, dist, rvecs, tvecs = cv2.calibrateCamera(objpoints, imgpoints, gray.shape[::-1], None, None)\n",
    "    return ret, mtx, dist, rvecs, tvecs\n",
    "\n",
    "# Test the calibration results \n",
    "#img = plt.imread('camera_cal/calibration1.jpg') # bring in distorted image \n",
    "#dst_test = cv2.undistort(img,mtx,dist,None,mtx)\n",
    "#plt.title(\"Undistorted\")\n",
    "#plt.imsave(\"undistorted_checkerboard.jpg\", dst_test)\n",
    "\n"
   ]
  },
  {
   "cell_type": "markdown",
   "metadata": {},
   "source": [
    "## Function that applies the distortion correction to the images "
   ]
  },
  {
   "cell_type": "code",
   "execution_count": 42,
   "metadata": {
    "scrolled": true
   },
   "outputs": [],
   "source": [
    "# Takes in image, camera matrix, and distortion coefficients and outputs undistorted image\n",
    "def undistort(img, mtx, dist):\n",
    "    return cv2.undistort(img, mtx, dist, None, mtx)"
   ]
  },
  {
   "cell_type": "markdown",
   "metadata": {},
   "source": [
    "## Function that create threshold binary images"
   ]
  },
  {
   "cell_type": "code",
   "execution_count": 45,
   "metadata": {},
   "outputs": [],
   "source": [
    "# Pipeline for creating binary image modified from class notes \n",
    "def get_binary(img, s_thresh=(160,230), sx_thresh=(35,100)):\n",
    "    img = np.copy(img)\n",
    "    # Convert to HLS color space\n",
    "    hls = cv2. cvtColor(img, cv2.COLOR_RGB2HLS)\n",
    "    L = hls[:,:,1]\n",
    "    S = hls[:,:,2]\n",
    "    \n",
    "    # Sobel in the x direction\n",
    "    sobelx = np.absolute(cv2.Sobel(L, cv2.CV_64F, 1, 0))\n",
    "    scaled_sobel = np.uint8(255*sobelx/np.max(sobelx))\n",
    "    \n",
    "    # Apply sobelx threshold \n",
    "    sxbinary = np.zeros_like(scaled_sobel)\n",
    "    sxbinary[(scaled_sobel >= sx_thresh[0]) & (scaled_sobel <= sx_thresh[1])] = 1\n",
    "    \n",
    "    # Apply an S threshold\n",
    "    thresh = (150, 255)\n",
    "    sbinary = np.zeros_like(S)\n",
    "    sbinary[(S > thresh[0]) & (S < thresh[1])] = 1\n",
    "    \n",
    "    # Combine each channel \n",
    "    #binary = np.dstack((np.zeros_like(sxbinary), sxbinary, sbinary)) * 255  # See what each channel does\n",
    "    binary = np.zeros_like(sbinary)\n",
    "    binary[(sbinary == 1) | (sxbinary == 1)] = 1\n",
    "    return binary\n"
   ]
  },
  {
   "cell_type": "markdown",
   "metadata": {},
   "source": [
    "## Functions to apply Perspective Transform for Birds Eye View and reverse"
   ]
  },
  {
   "cell_type": "code",
   "execution_count": 47,
   "metadata": {},
   "outputs": [],
   "source": [
    "# Applies the perspective transform on the images \n",
    "def perspective_trans(img):\n",
    "    # Get information about the image \n",
    "    yvert = 455    # This is where the lines stop in the middle of the image \n",
    "    ymax = img.shape[0]\n",
    "    xmax = img.shape[1]\n",
    "    img_size = (img.shape[1], img.shape[0])\n",
    "    \n",
    "    # Get the transformation vertices \n",
    "    src = np.float32([[200,ymax],[590, yvert], [700, yvert], \n",
    "                          [1150,ymax]], dtype=np.int32)\n",
    "    dst = np.float32([[300,ymax],[300,0],[950,0],[950,ymax]])\n",
    "    \n",
    "    # Calculate perspective transform matrix \n",
    "    M = cv2.getPerspectiveTransform(src,dst)\n",
    "    warped = cv2.warpPerspective(img, M, img_size, dst)\n",
    "    \n",
    "    return warped, M\n",
    "\n",
    "# Reverses the perspective transform back to original image \n",
    "def reverse_perspective(img):\n",
    "    # Get information about the image \n",
    "    yvert = 455    # This is where the lines stop in the middle of the image \n",
    "    ymax = img.shape[0]\n",
    "    xmax = img.shape[1]\n",
    "    img_size = (img.shape[1], img.shape[0])\n",
    "    \n",
    "    # Get the transformation vertices (reverse of perspective_trans)\n",
    "    src = np.float32([[300,ymax],[300,0],[950,0],[950,ymax]])\n",
    "    dst = np.float32([[200,ymax],[590, yvert], [700, yvert], \n",
    "                          [1150,ymax]], dtype=np.int32)\n",
    "    \n",
    "    # Calculate perspective transform matrix \n",
    "    M = cv2.getPerspectiveTransform(src,dst)\n",
    "    warped = cv2.warpPerspective(img, M, img_size, dst)\n",
    "    \n",
    "    return warped, M\n"
   ]
  },
  {
   "cell_type": "markdown",
   "metadata": {},
   "source": [
    "## Function to detect lane pixels and fit to find the lane boundary."
   ]
  },
  {
   "cell_type": "code",
   "execution_count": 39,
   "metadata": {},
   "outputs": [],
   "source": [
    "def find_lane_pixels(binary_warped):\n",
    "    # Get histogram from bottom half of the image \n",
    "    histogram = np.sum(binary_warped[binary_warped.shape[0]//2:,:], axis=0)\n",
    "    out_image = np.dstack((binary_warped, binary_warped, binary_warped))\n",
    "    \n",
    "    # Get the starting points for left and right halves \n",
    "    midpoint = np.int(histogram.shape[0]//2)\n",
    "    leftx_base = np.argmax(histogram[:midpoint])\n",
    "    rightx_base = np.argmax(histogram[midpoint:]) + midpoint\n",
    "    \n",
    "    \n",
    "    # Set hyperparameters for sliding windows \n",
    "    nwindows = 12  # Number of windows \n",
    "    margin = 40  # Width of windows +/- margin \n",
    "    minpix = 50   # Number of pixels to recenter\n",
    "    window_height = np.int(binary_warped.shape[0]//nwindows)\n",
    "    \n",
    "    # Find positions of nonzero pixels\n",
    "    nonzero = binary_warped.nonzero()\n",
    "    nonzeroy = np.array(nonzero[0])\n",
    "    nonzerox = np.array(nonzero[1])\n",
    "    \n",
    "    # Set initial positions \n",
    "    leftx_current = leftx_base\n",
    "    rightx_current = rightx_base\n",
    "    \n",
    "    # Go through each window and store lane pixel indices \n",
    "    left_lane_inds = []\n",
    "    right_lane_inds = []\n",
    "    for window in range(nwindows):\n",
    "        # Find boundaries for window\n",
    "        win_y_low = binary_warped.shape[0] - (window+1)*window_height\n",
    "        win_y_high = binary_warped.shape[0] - window*window_height\n",
    "        win_xleft_low = leftx_current - margin\n",
    "        win_xleft_high = leftx_current + margin\n",
    "        win_xright_low = rightx_current - margin\n",
    "        win_xright_high = rightx_current + margin\n",
    "        \n",
    "        # Draw the windows \n",
    "        #cv2.rectangle(out_image,(win_xleft_low, win_y_low), (win_xleft_high, win_y_high), (0,255,0), 2)\n",
    "        #cv2.rectangle(out_image,(win_xright_low, win_y_low), (win_xright_high, win_y_high), (0,255,0), 2)\n",
    "        \n",
    "        # Get nonzero pixels inside window and add to list\n",
    "        left_inds = ((nonzeroy >= win_y_low) & (nonzeroy < win_y_high) &\n",
    "                    (nonzerox >= win_xleft_low) & (nonzerox < win_xleft_high)).nonzero()[0]\n",
    "        right_inds = ((nonzeroy >= win_y_low) & (nonzeroy < win_y_high) &\n",
    "                     (nonzerox >= win_xright_low) & (nonzerox < win_xright_high)).nonzero()[0]\n",
    "        left_lane_inds.append(left_inds)\n",
    "        right_lane_inds.append(right_inds)\n",
    "        \n",
    "        # Recenter window if necessary \n",
    "        if len(left_inds) > minpix:\n",
    "            leftx_current = np.int(np.mean(nonzerox[left_inds]))\n",
    "        if len(right_inds) > minpix:\n",
    "            rightx_current = np.int(np.mean(nonzerox[right_inds]))\n",
    "            \n",
    "    # Concatenate the arrays of indices \n",
    "    left_lane_inds = np.concatenate(left_lane_inds)\n",
    "    right_lane_inds = np.concatenate(right_lane_inds)\n",
    "    \n",
    "    # Get left and right line pixel positions \n",
    "    leftx = nonzerox[left_lane_inds]\n",
    "    lefty = nonzeroy[left_lane_inds]\n",
    "    rightx = nonzerox[right_lane_inds]\n",
    "    righty = nonzeroy[right_lane_inds]\n",
    "    \n",
    "    return leftx, lefty, rightx, righty, out_image\n",
    "\n",
    "# Use for images to fit the polynomial\n",
    "def fit_first_polynomial(binary_warped):\n",
    "    # Convert from pixel space to meters \n",
    "    ym_per_pix = 30/720   # meters/pixel in y direction\n",
    "    xm_per_pix = 3.7/700  # meters/pixel in x direction \n",
    "    \n",
    "    # Get the lane pixels \n",
    "    leftx, lefty, rightx, righty, out_image = find_lane_pixels(binary_warped)\n",
    "    \n",
    "    # Fit a second order polynomial (in pixel space)\n",
    "    left_poly = np.polyfit(lefty, leftx, 2)\n",
    "    right_poly = np.polyfit(righty, rightx, 2)\n",
    "    \n",
    "    # Fit a second order polynomial (in real space)\n",
    "    left_poly_real = np.polyfit(lefty*ym_per_pix, leftx*xm_per_pix, 2)\n",
    "    right_poly_real = np.polyfit(righty*ym_per_pix, rightx*xm_per_pix, 2)\n",
    "    \n",
    "    # Plot lane boundaries \n",
    "    ploty = np.linspace(0, binary_warped.shape[0]-1, binary_warped.shape[0])\n",
    "    #left_fitx = left_poly[0]*ploty**2 + left_poly[1]*ploty + left_poly[2]\n",
    "    #right_fitx = right_poly[0]*ploty**2 + right_poly[1]*ploty + right_poly[2]\n",
    "    \n",
    "    \n",
    "    # Use ploty to draw the polygon (green lane) \n",
    "    left_evals = left_poly[0]*(ploty**2) + left_poly[1]*ploty + left_poly[2]\n",
    "    right_evals = right_poly[0]*(ploty**2) + right_poly[1]*ploty + right_poly[2]\n",
    "    image_array = []\n",
    "    ind = len(left_evals)\n",
    "    for i in range(1,ind):\n",
    "        image_array.append([int(left_evals[ind-i]), int(ploty[ind-i])])\n",
    "    for i in range(1,ind):\n",
    "        image_array.append([int(right_evals[i]), int(ploty[i])])\n",
    "    polygon_array = [image_array]\n",
    "    polygon_array = np.asarray(polygon_array, dtype=np.int32)\n",
    "    cv2.fillPoly(out_image, polygon_array, color=[0,255,0])\n",
    "    \n",
    "    \n",
    "    # Color in the lane lines \n",
    "    out_image[lefty, leftx] = [255,0,0]\n",
    "    out_image[righty, rightx] = [0, 0, 255]\n",
    "    #plt.plot(left_fitx, ploty, color='yellow')\n",
    "    #plt.plot(right_fitx, ploty, color='yellow')\n",
    "    \n",
    "    return left_poly_real, right_poly_real, ploty, out_image\n",
    "\n",
    "\n",
    "    \n",
    "    \n",
    "    "
   ]
  },
  {
   "cell_type": "markdown",
   "metadata": {},
   "source": [
    "## Determine the curvature of the lane and vehicle position with respect to center"
   ]
  },
  {
   "cell_type": "code",
   "execution_count": 20,
   "metadata": {},
   "outputs": [],
   "source": [
    "def get_curvature(left_poly, right_poly, ploty):\n",
    "    # Convert from pixel space to meters \n",
    "    ym_per_pix = 30/720   # meters/pixel in y direction\n",
    "    xm_per_pix = 3.7/700  # meters/pixel in x direction \n",
    "    \n",
    "    # Measure curvature from bottom of image \n",
    "    yeval = np.max(ploty)*ym_per_pix\n",
    "    \n",
    "    # Calculation for radius of curvature \n",
    "    left_curve_rad = ((1 + (2*left_poly[0]*yeval + left_poly[1])**2)**(1.5)) / (np.absolute(2*left_poly[0]))\n",
    "    right_curve_rad = ((1 + (2*right_poly[0]*yeval + right_poly[1])**2)**(1.5)) / (np.absolute(2*right_poly[0]))\n",
    "    \n",
    "    # Calculate distance from center \n",
    "    left = left_poly[0]*(yeval)**2 + left_poly[1]*yeval + left_poly[2]\n",
    "    right = right_poly[0]*(yeval)**2 + right_poly[1]*yeval + right_poly[2]\n",
    "    center = 640 * xm_per_pix\n",
    "    loc = (left + right) / 2.0 \n",
    "    dist_center = center - loc\n",
    "    \n",
    "    return left_curve_rad, right_curve_rad, dist_center"
   ]
  },
  {
   "cell_type": "markdown",
   "metadata": {},
   "source": [
    "## Warp the detected lane boundaries back onto the original image."
   ]
  },
  {
   "cell_type": "code",
   "execution_count": 21,
   "metadata": {},
   "outputs": [],
   "source": [
    "def draw_lanes(image, binary_image):\n",
    "    # Fit the line and get curvature and distance\n",
    "    left_fit, right_fit, ploty, out_image = fit_first_polynomial(binary_image)\n",
    "    left_curve, right_curve, dist_center = get_curvature(left_fit, right_fit, ploty)\n",
    "    \n",
    "    # Reverse the perspective transform \n",
    "    lanes, M = reverse_perspective(out_image)\n",
    "    \n",
    "    # Create the image \n",
    "    overlay = cv2.addWeighted(image, 1.0, lanes, 0.35, 0)\n",
    "    cv2.putText(overlay, \"Radius of Curvature = {}m\".format(int((left_curve + right_curve)/2)),\n",
    "                (30, 75), cv2.FONT_HERSHEY_PLAIN, 4.0, (255, 255, 255), 3)\n",
    "    cv2.putText(overlay, \"Distance from Center = {0:.2f}m\".format(round(dist_center,2)),\n",
    "                (30, 135), cv2.FONT_HERSHEY_PLAIN, 4.0, (255, 255, 255), 3)\n",
    "    \n",
    "    return overlay\n",
    "    '''\n",
    "    plt.imshow(image)\n",
    "    plt.imshow(lanes, cmap='jet', alpha=0.35)\n",
    "    plt.text(30,75, ('Radius of Curvature: %dm' %((left_curve + right_curve) / 2)), fontsize=16, color='white')\n",
    "    plt.text(30,135, ('Distance from center: %.2fm' %(dist_center)), fontsize=16, color='white')\n",
    "    plt.savefig(save_file)\n",
    "    plt.clf()\n",
    "    plt.close()\n",
    "    '''"
   ]
  },
  {
   "cell_type": "markdown",
   "metadata": {},
   "source": [
    "## Pipeline for processing image"
   ]
  },
  {
   "cell_type": "code",
   "execution_count": 27,
   "metadata": {},
   "outputs": [],
   "source": [
    "# Takes in image and assumes camera matrix/distortion coefficients have been created \n",
    "def process_image(image):\n",
    "    # Undistort the image\n",
    "    undist = undistort(image,mtx,dist)\n",
    "    \n",
    "    # Transform the image to top down view and get binary\n",
    "    transformed, M = perspective_trans(undist)\n",
    "    binary = get_binary(transformed)\n",
    "    \n",
    "    # Overlay lane lines\n",
    "    return draw_lanes(undist, binary)"
   ]
  },
  {
   "cell_type": "markdown",
   "metadata": {},
   "source": [
    "## Test the functions on test_images"
   ]
  },
  {
   "cell_type": "code",
   "execution_count": 40,
   "metadata": {},
   "outputs": [],
   "source": [
    "# Get camera calibration values \n",
    "ret, mtx, dist, rvecs, tvecs = calibrate_camera()\n",
    "\n",
    "# Undistort and save all of the test images in an array (test_images)\n",
    "test_images = []\n",
    "images = glob.glob('test_images/*.jpg')\n",
    "for fname in images:\n",
    "    img = plt.imread(fname)\n",
    "    test_images.append(process_image(img))\n",
    "    \n",
    "# Save the test images\n",
    "for i in range(len(test_images)):\n",
    "    filename = ('output_images/output' + str(i) + '.jpg')\n",
    "    plt.imsave(filename, test_images[i])"
   ]
  },
  {
   "cell_type": "markdown",
   "metadata": {},
   "source": [
    "# Pipline for video"
   ]
  },
  {
   "cell_type": "code",
   "execution_count": 24,
   "metadata": {},
   "outputs": [],
   "source": [
    "from moviepy.editor import VideoFileClip\n",
    "#from IPython.display import HTML"
   ]
  },
  {
   "cell_type": "code",
   "execution_count": 48,
   "metadata": {},
   "outputs": [
    {
     "name": "stdout",
     "output_type": "stream",
     "text": [
      "[MoviePy] >>>> Building video output1video.mp4\n",
      "[MoviePy] Writing video output1video.mp4\n"
     ]
    },
    {
     "name": "stderr",
     "output_type": "stream",
     "text": [
      "100%|█████████▉| 1260/1261 [01:11<00:00, 18.50it/s]\n"
     ]
    },
    {
     "name": "stdout",
     "output_type": "stream",
     "text": [
      "[MoviePy] Done.\n",
      "[MoviePy] >>>> Video ready: output1video.mp4 \n",
      "\n",
      "CPU times: user 11min 28s, sys: 11.3 s, total: 11min 39s\n",
      "Wall time: 1min 11s\n"
     ]
    }
   ],
   "source": [
    "# Get camera calibration values \n",
    "ret, mtx, dist, rvecs, tvecs = calibrate_camera()\n",
    "\n",
    "output_file = 'output1video.mp4'\n",
    "clip1 = VideoFileClip('project_video.mp4')\n",
    "output = clip1.fl_image(process_image)\n",
    "%time output.write_videofile(filename=output_file, audio=False)\n"
   ]
  },
  {
   "cell_type": "code",
   "execution_count": null,
   "metadata": {},
   "outputs": [],
   "source": []
  },
  {
   "cell_type": "code",
   "execution_count": null,
   "metadata": {},
   "outputs": [],
   "source": []
  }
 ],
 "metadata": {
  "anaconda-cloud": {},
  "kernelspec": {
   "display_name": "Python 3",
   "language": "python",
   "name": "python3"
  },
  "language_info": {
   "codemirror_mode": {
    "name": "ipython",
    "version": 3
   },
   "file_extension": ".py",
   "mimetype": "text/x-python",
   "name": "python",
   "nbconvert_exporter": "python",
   "pygments_lexer": "ipython3",
   "version": "3.7.1"
  }
 },
 "nbformat": 4,
 "nbformat_minor": 1
}
